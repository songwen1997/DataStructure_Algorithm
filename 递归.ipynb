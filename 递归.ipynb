{
 "cells": [
  {
   "cell_type": "code",
   "execution_count": 1,
   "metadata": {},
   "outputs": [
    {
     "name": "stdout",
     "output_type": "stream",
     "text": [
      "1A\n"
     ]
    }
   ],
   "source": [
    "#整数转换为任意进制\n",
    "def toStr(n,base):\n",
    "    convertString = '0123456789ABCDEF'\n",
    "    if n < base:\n",
    "        return convertString[n]\n",
    "    else:\n",
    "        return toStr(n//base,base) + convertString[n%base]\n",
    "\n",
    "print(toStr(26,16))"
   ]
  },
  {
   "cell_type": "code",
   "execution_count": 3,
   "metadata": {},
   "outputs": [
    {
     "name": "stdout",
     "output_type": "stream",
     "text": [
      "Moving disk[1] from #1 to #3\n",
      "Moving disk[2] from #1 to #2\n",
      "Moving disk[1] from #3 to #2\n",
      "Moving disk[3] from #1 to #3\n",
      "Moving disk[1] from #2 to #1\n",
      "Moving disk[2] from #2 to #3\n",
      "Moving disk[1] from #1 to #3\n"
     ]
    }
   ],
   "source": [
    "#汉诺塔问题\n",
    "def moveTower(height,fromPole,withPole,toPole): #三根柱子，height个盘子，从fromPole搬到toPole\n",
    "    if height >= 1:\n",
    "        moveTower(height - 1,fromPole,toPole,withPole)\n",
    "        moveDisk(height,fromPole,toPole)\n",
    "        moveTower(height - 1,withPole,fromPole,toPole)\n",
    "\n",
    "def moveDisk(disk,fromPole,toPole):\n",
    "    print(f\"Moving disk[{disk}] from {fromPole} to {toPole}\")\n",
    "\n",
    "moveTower(3,\"#1\",\"#2\",\"#3\")"
   ]
  },
  {
   "cell_type": "code",
   "execution_count": null,
   "metadata": {},
   "outputs": [],
   "source": []
  }
 ],
 "metadata": {
  "interpreter": {
   "hash": "a8216042bf0115a7407236a49e303fe82e47b9d3f1df6a143b06a3096beaf25d"
  },
  "kernelspec": {
   "display_name": "Python 3.7.4 ('base')",
   "language": "python",
   "name": "python3"
  },
  "language_info": {
   "codemirror_mode": {
    "name": "ipython",
    "version": 3
   },
   "file_extension": ".py",
   "mimetype": "text/x-python",
   "name": "python",
   "nbconvert_exporter": "python",
   "pygments_lexer": "ipython3",
   "version": "3.7.4"
  },
  "orig_nbformat": 4
 },
 "nbformat": 4,
 "nbformat_minor": 2
}
